{
 "cells": [
  {
   "cell_type": "code",
   "execution_count": 6,
   "id": "b48f4244-8e63-408d-8396-6e5206e14c39",
   "metadata": {},
   "outputs": [],
   "source": [
    "import pandas as pd\n",
    "\n",
    "# Load the CSV files into DataFrames\n",
    "df1 = pd.read_csv('quiz_tokens/Sept_12_tokens.csv')\n",
    "df2 = pd.read_csv('CSC 540 (001) FALL 2023-Quiz 2 for Section 001-responses.csv')\n",
    "\n",
    "# Create a dictionary to store non-matching rows\n",
    "non_matching_rows = []\n",
    "\n",
    "# Iterate through the rows in document-2\n",
    "for index, row2 in df2.iterrows():\n",
    "    # Extract relevant information from document-2\n",
    "    first_name2 = row2['First name']\n",
    "    last_name2 = row2['Last name']\n",
    "    email2 = row2['Email address']\n",
    "    token2 = row2['Response 1']\n",
    "\n",
    "    # Check if the hash from document-2 is not in document-1\n",
    "    if token2 not in df1['token'].values:\n",
    "        non_matching_rows.append({'First Name': first_name2, 'Last Name': last_name2, 'Email': email2, 'token': token2})\n",
    "\n",
    "# Create a DataFrame from the non-matching rows\n",
    "non_matching_df = pd.DataFrame(non_matching_rows)\n",
    "\n",
    "# Optionally, you can save the non-matching rows to a CSV file\n",
    "non_matching_df.to_csv('non_matching_rows.csv', index=False)"
   ]
  },
  {
   "cell_type": "markdown",
   "id": "27b036c5-8dde-4bf9-9fa5-e6dce885be53",
   "metadata": {},
   "source": [
    "### Check token for uniqueness "
   ]
  },
  {
   "cell_type": "code",
   "execution_count": 9,
   "id": "f826dd87-49fa-4416-affd-96a24d902e3f",
   "metadata": {},
   "outputs": [],
   "source": [
    "import pandas as pd\n",
    "\n",
    "# Load the CSV files into DataFrames\n",
    "df1 = pd.read_csv('quiz_tokens/Sept_12_tokens.csv')\n",
    "df2 = pd.read_csv('CSC 540 (001) FALL 2023-Quiz 2 for Section 001-responses.csv')\n",
    "\n",
    "# Create a dictionary to store non-unique tokens\n",
    "non_unique_tokens = {}\n",
    "\n",
    "# Check if token2 is not unique in df2\n",
    "duplicated_tokens = df2[df2['Response 1'].duplicated(keep=False)]\n",
    "\n",
    "# Iterate through the duplicated tokens\n",
    "for token2 in duplicated_tokens['Response 1']:\n",
    "    # Check if the token2 is present in df1\n",
    "    if token2 in df1['token'].values:\n",
    "        non_unique_tokens[token2] = True\n",
    "\n",
    "# Print the non-unique tokens\n",
    "for token2 in non_unique_tokens.keys():\n",
    "    print(f\"Token '{token2}' from document-2 is not unique or present in document-1.\")\n",
    "\n",
    "# Optionally, you can save the non-unique tokens to a CSV file\n",
    "non_unique_df = pd.DataFrame({'Token2': list(non_unique_tokens.keys())})\n",
    "non_unique_df.to_csv('not_unique_token.csv', index=False)\n"
   ]
  },
  {
   "cell_type": "code",
   "execution_count": null,
   "id": "c89a816c-f77e-4128-b26f-1ac603119a8d",
   "metadata": {},
   "outputs": [],
   "source": []
  }
 ],
 "metadata": {
  "kernelspec": {
   "display_name": "Python 3 (ipykernel)",
   "language": "python",
   "name": "python3"
  },
  "language_info": {
   "codemirror_mode": {
    "name": "ipython",
    "version": 3
   },
   "file_extension": ".py",
   "mimetype": "text/x-python",
   "name": "python",
   "nbconvert_exporter": "python",
   "pygments_lexer": "ipython3",
   "version": "3.11.2"
  }
 },
 "nbformat": 4,
 "nbformat_minor": 5
}
