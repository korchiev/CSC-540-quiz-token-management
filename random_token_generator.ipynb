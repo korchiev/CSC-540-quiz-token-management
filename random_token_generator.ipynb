{
 "cells": [
  {
   "cell_type": "markdown",
   "id": "3358f7eb-40d1-4e0b-9876-5ee658bc1081",
   "metadata": {},
   "source": [
    "## Random token Generator"
   ]
  },
  {
   "cell_type": "code",
   "execution_count": 12,
   "id": "adf40b2a-4ee6-4efa-ae64-25e0e75da0ec",
   "metadata": {},
   "outputs": [],
   "source": [
    "import random\n",
    "import string\n",
    "from docx import Document\n",
    "from docx.shared import Pt\n",
    "from docx.enum.text import WD_PARAGRAPH_ALIGNMENT\n",
    "from docx.enum.section import WD_SECTION\n",
    "import pandas as pd\n",
    "import os\n",
    "\n",
    "# Create a new Word document\n",
    "doc = Document()\n",
    "dic_of_hashes = {}\n",
    "\n",
    "# Set page size to A4 and margin size to 1 inch\n",
    "section = doc.sections[0]\n",
    "section.start_type\n",
    "section.start_type\n",
    "section.page_height = Pt(11 * 72)\n",
    "section.page_width = Pt(8.5 * 72)\n",
    "section.left_margin = Pt(1 * 72)\n",
    "section.right_margin = Pt(1 * 72)\n",
    "section.top_margin = Pt(1 * 72)\n",
    "section.bottom_margin = Pt(1 * 72)\n",
    "\n",
    "# Number of random strings to generate and save\n",
    "num_strings = 120\n",
    "\n",
    "# indicate the number of the quiz\n",
    "quiz_number = 5\n",
    "\n",
    "# Define the font size\n",
    "font_size = Pt(16)\n",
    "\n",
    "for i in range(num_strings):\n",
    "    # Generate a random string of length 10\n",
    "    random_number = random.randint(10000,99999)\n",
    "    random_number = str(random_number)\n",
    "\n",
    "    # Set the font size \n",
    "    run = paragraph.runs[0]\n",
    "    font = run.font\n",
    "    font.size = font_size\n",
    "\n",
    "    # Add the string to a new page\n",
    "    doc.add_section(WD_SECTION.NEW_PAGE)\n",
    "    paragraph = doc.add_paragraph(random_number)\n",
    "\n",
    "    # Center-align the text on the page\n",
    "    paragraph.alignment = WD_PARAGRAPH_ALIGNMENT.CENTER\n",
    "    dic_of_hashes[i] = random_number\n",
    "\n",
    "# Save the Word document\n",
    "if not os.path.exists('quiz_tokens'):\n",
    "    os.makedirs(\"quiz_tokens\")\n",
    "doc.save(f\"quiz_tokens/quiz_{quiz_number}_tokens.docx\")\n",
    "\n",
    "# save hashes to csv file to compare the keys against students' input after the quiz\n",
    "df = pd.DataFrame(dic_of_hashes, index = [0]).transpose()\n",
    "df.columns = ['token']\n",
    "df.to_csv(f\"quiz_tokens/quiz_{quiz_number}_tokens.csv\")"
   ]
  },
  {
   "cell_type": "code",
   "execution_count": null,
   "id": "548cdb1e-c07f-43fb-8035-06979433ac95",
   "metadata": {},
   "outputs": [],
   "source": []
  }
 ],
 "metadata": {
  "kernelspec": {
   "display_name": "Python 3 (ipykernel)",
   "language": "python",
   "name": "python3"
  },
  "language_info": {
   "codemirror_mode": {
    "name": "ipython",
    "version": 3
   },
   "file_extension": ".py",
   "mimetype": "text/x-python",
   "name": "python",
   "nbconvert_exporter": "python",
   "pygments_lexer": "ipython3",
   "version": "3.11.2"
  }
 },
 "nbformat": 4,
 "nbformat_minor": 5
}
